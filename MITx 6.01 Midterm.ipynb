{
 "cells": [
  {
   "cell_type": "markdown",
   "metadata": {},
   "source": [
    "These are my solutions to the midterm problems"
   ]
  },
  {
   "cell_type": "markdown",
   "metadata": {},
   "source": [
    "# Problem One\n",
    "\n",
    "Implement a function called closest_power that meets the specifications below.\n",
    "\n",
    "def closest_power(base, num):\n",
    "    '''\n",
    "    base: base of the exponential, integer > 1\n",
    "    num: number you want to be closest to, integer > 0\n",
    "    Find the integer exponent such that base**exponent is closest to num.\n",
    "    Note that the base**exponent may be either greater or smaller than num.\n",
    "    In case of a tie, return the smaller value.\n",
    "    Returns the exponent.\n",
    "    '''\n",
    "\n",
    "For example,\n",
    "\n",
    "closest_power(3,12) returns 2\n",
    "\n",
    "closest_power(4,12) returns 2\n",
    "\n",
    "closest_power(4,1) returns 0"
   ]
  },
  {
   "cell_type": "code",
   "execution_count": 1,
   "metadata": {
    "collapsed": true
   },
   "outputs": [],
   "source": [
    "def closest_power(base, num):\n",
    "    '''\n",
    "    base: base of the exponential, integer > 1\n",
    "    num: number you want to be closest to, integer > 0\n",
    "    Find the integer exponent such that base**exponent is closest to num.\n",
    "    Note that the base**exponent may be either greater or smaller than num.\n",
    "    In case of a tie, return the smaller value.\n",
    "    Returns the exponent.\n",
    "    '''\n",
    "    exp = 0\n",
    "    result = 0\n",
    "    list = []\n",
    "    while result <= num**2:\n",
    "        result = (abs(base**exp-num))\n",
    "        list.append(result)\n",
    "        exp+=1\n",
    "    return list.index(min(list))"
   ]
  },
  {
   "cell_type": "code",
   "execution_count": 2,
   "metadata": {
    "collapsed": false
   },
   "outputs": [
    {
     "data": {
      "text/plain": [
       "2"
      ]
     },
     "execution_count": 2,
     "metadata": {},
     "output_type": "execute_result"
    }
   ],
   "source": [
    "closest_power(3,12) "
   ]
  },
  {
   "cell_type": "code",
   "execution_count": 3,
   "metadata": {
    "collapsed": false
   },
   "outputs": [
    {
     "data": {
      "text/plain": [
       "3"
      ]
     },
     "execution_count": 3,
     "metadata": {},
     "output_type": "execute_result"
    }
   ],
   "source": [
    "closest_power(4,75)"
   ]
  },
  {
   "cell_type": "markdown",
   "metadata": {},
   "source": [
    "# Problem Two\n",
    "\n",
    "Write a Python function that returns the sum of the pairwise products of listA and listB. You should assume that listA and listB have the same length and are two lists of integer numbers. For example, if listA = [1, 2, 3] and listB = [4, 5, 6], the dot product is 1*4 + 2*5 + 3*6, meaning your function should return: 32\n",
    "\n",
    "Hint: You will need to traverse both lists in parallel.\n",
    "\n",
    "This function takes in two lists of numbers and returns a number."
   ]
  },
  {
   "cell_type": "code",
   "execution_count": 4,
   "metadata": {
    "collapsed": true
   },
   "outputs": [],
   "source": [
    "def dotProduct(listA, listB):\n",
    "    '''\n",
    "    listA: a list of numbers\n",
    "    listB: a list of numbers of the same length as listA\n",
    "    '''\n",
    "    return sum(listA_i * listB_i for listA_i, listB_i in zip(listA, listB))"
   ]
  },
  {
   "cell_type": "code",
   "execution_count": 5,
   "metadata": {
    "collapsed": false
   },
   "outputs": [
    {
     "data": {
      "text/plain": [
       "-5754"
      ]
     },
     "execution_count": 5,
     "metadata": {},
     "output_type": "execute_result"
    }
   ],
   "source": [
    "dotProduct([88, -26, -97, 83, 31, -44, -23, 40, -35], [-67, 5, -37, -95, -15, -21, 12, 44, -75])"
   ]
  },
  {
   "cell_type": "markdown",
   "metadata": {},
   "source": [
    "# Problem Three\n",
    "\n",
    "Implement a function that meets the specifications below.\n",
    "\n",
    "def deep_reverse(L):\n",
    "    \"\"\" assumes L is a list of lists whose elements are ints\n",
    "    Mutates L such that it reverses its elements and also \n",
    "    reverses the order of the int elements in every element of L. \n",
    "    It does not return anything.\n",
    "    \"\"\"\n",
    "    # Your code here\n",
    "    \n",
    "For example, if L = [[1, 2], [3, 4], [5, 6, 7]] then deep_reverse(L) mutates L to be [[7, 6, 5], [4, 3], [2, 1]]"
   ]
  },
  {
   "cell_type": "code",
   "execution_count": 6,
   "metadata": {
    "collapsed": true
   },
   "outputs": [],
   "source": [
    "def deep_reverse(L):\n",
    "    \"\"\" assumes L is a list of lists whose elements are ints\n",
    "    Mutates L such that it reverses its elements and also \n",
    "    reverses the order of the int elements in every element of L. \n",
    "    It does not return anything.\n",
    "    \"\"\"\n",
    "    L.reverse()\n",
    "    for i in L:\n",
    "        i.reverse()\n",
    "    return L"
   ]
  },
  {
   "cell_type": "code",
   "execution_count": 7,
   "metadata": {
    "collapsed": false
   },
   "outputs": [
    {
     "data": {
      "text/plain": [
       "[[3, 2, 1], [2, 1, 0]]"
      ]
     },
     "execution_count": 7,
     "metadata": {},
     "output_type": "execute_result"
    }
   ],
   "source": [
    "deep_reverse([[0, 1, 2], [1, 2, 3]])"
   ]
  },
  {
   "cell_type": "markdown",
   "metadata": {},
   "source": [
    "# Problem Four\n",
    "\n",
    "Assume you are given two dictionaries d1 and d2, each with integer keys and integer values. You are also given a function f, that takes in two integers, performs an unknown operation on them, and returns a value.\n",
    "\n",
    "Write a function called dict_interdiff that takes in two dictionaries (d1 and d2). The function will return a tuple of two dictionaries: a dictionary of the intersect of d1 and d2 and a dictionary of the difference of d1 and d2, calculated as follows:\n",
    "\n",
    "- intersect: The keys to the intersect dictionary are keys that are common in both d1 and d2. To get the values of the intersect dictionary, look at the common keys in d1 and d2 and apply the function f to these keys' values -- the value of the common key in d1 is the first parameter to the function and the value of the common key in d2 is the second parameter to the function. Do not implement f inside your dict_interdiff code -- assume it is defined outside.\n",
    "- difference: a key-value pair in the difference dictionary is (a) every key-value pair in d1 whose key appears only in d1 and not in d2 and (b) every key-value pair in d2 whose key appears only in d2 and not in d1."
   ]
  },
  {
   "cell_type": "code",
   "execution_count": 12,
   "metadata": {
    "collapsed": true
   },
   "outputs": [],
   "source": [
    "def dict_interdiff(d1, d2):\n",
    "    '''\n",
    "    d1, d2: dicts whose keys and values are integers\n",
    "    Returns a tuple of dictionaries according to the instructions above\n",
    "    '''\n",
    "    inter = {}\n",
    "    diff = {}\n",
    "     \n",
    "    for key in d1.keys():\n",
    "        if key in d2:\n",
    "            inter[key] = f(d1.get(key),d2.get(key))\n",
    "        else:\n",
    "            diff[key] = d1.get(key)\n",
    "             \n",
    "    for key in d2.keys():\n",
    "        if not key in d1:\n",
    "            diff[key] = d2.get(key)\n",
    "             \n",
    "    return (inter, diff)"
   ]
  },
  {
   "cell_type": "markdown",
   "metadata": {},
   "source": []
  },
  {
   "cell_type": "code",
   "execution_count": null,
   "metadata": {
    "collapsed": true
   },
   "outputs": [],
   "source": []
  },
  {
   "cell_type": "code",
   "execution_count": null,
   "metadata": {
    "collapsed": true
   },
   "outputs": [],
   "source": []
  }
 ],
 "metadata": {
  "kernelspec": {
   "display_name": "Python [Root]",
   "language": "python",
   "name": "Python [Root]"
  },
  "language_info": {
   "codemirror_mode": {
    "name": "ipython",
    "version": 2
   },
   "file_extension": ".py",
   "mimetype": "text/x-python",
   "name": "python",
   "nbconvert_exporter": "python",
   "pygments_lexer": "ipython2",
   "version": "2.7.12"
  }
 },
 "nbformat": 4,
 "nbformat_minor": 0
}
