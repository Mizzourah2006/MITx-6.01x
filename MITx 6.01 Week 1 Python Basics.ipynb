{
 "cells": [
  {
   "cell_type": "markdown",
   "metadata": {},
   "source": [
    "# Week 1\n",
    "\n",
    "This is my work for the Python Basics Problem Sets\n",
    "\n",
    "# Problem 1\n",
    "Assume s is a string of lower case characters.\n",
    "\n",
    "Write a program that counts up the number of vowels contained in the string s. Valid vowels are: 'a', 'e', 'i', 'o', and 'u'. For example, if s = 'azcbobobegghakl', your program should print: Number of vowels: 5"
   ]
  },
  {
   "cell_type": "code",
   "execution_count": 2,
   "metadata": {
    "collapsed": false
   },
   "outputs": [
    {
     "name": "stdout",
     "output_type": "stream",
     "text": [
      "Number of vowels:5\n"
     ]
    }
   ],
   "source": [
    "s = 'azcbobobegghakl'\n",
    "\n",
    "count = 0\n",
    "for letters in s:\n",
    "    if letters == 'a':\n",
    "        count = count + 1\n",
    "    elif letters == 'e':\n",
    "        count = count + 1\n",
    "    elif letters == 'i':\n",
    "        count = count + 1\n",
    "    elif letters == 'o':\n",
    "        count = count + 1\n",
    "    elif letters == 'u':\n",
    "        count = count + 1\n",
    "\n",
    "count1 = str(count)\n",
    "print ('Number of vowels:' + count1)"
   ]
  },
  {
   "cell_type": "markdown",
   "metadata": {},
   "source": [
    "# Problem 2\n",
    "\n",
    "Assume s is a string of lower case characters.\n",
    "\n",
    "Write a program that prints the number of times the string 'bob' occurs in s. For example, if s = 'azcbobobegghakl', then your program should print\n",
    "\n",
    "Number of times bob occurs is: 2"
   ]
  },
  {
   "cell_type": "code",
   "execution_count": 3,
   "metadata": {
    "collapsed": false
   },
   "outputs": [
    {
     "name": "stdout",
     "output_type": "stream",
     "text": [
      "2\n"
     ]
    }
   ],
   "source": [
    "s = 'azcbobobegghakl'\n",
    "\n",
    "count = 0\n",
    "for i in range(len(s)):\n",
    "    if s[i:i+3] =='bob':\n",
    "        count +=1\n",
    "print (count)"
   ]
  },
  {
   "cell_type": "markdown",
   "metadata": {},
   "source": [
    "# Problem 3\n",
    "\n",
    "Assume s is a string of lower case characters.\n",
    "\n",
    "Write a program that prints the longest substring of s in which the letters occur in alphabetical order. For example, if s = 'azcbobobegghakl', then your program should print\n",
    "\n",
    "Longest substring in alphabetical order is: beggh\n",
    "In the case of ties, print the first substring. For example, if s = 'abcbcd', then your program should print\n",
    "\n",
    "Longest substring in alphabetical order is: abc"
   ]
  },
  {
   "cell_type": "code",
   "execution_count": 4,
   "metadata": {
    "collapsed": false
   },
   "outputs": [
    {
     "name": "stdout",
     "output_type": "stream",
     "text": [
      "Longest substring in alphabetical order is:beggh\n"
     ]
    }
   ],
   "source": [
    "s = 'azcbobobegghakl'\n",
    "\n",
    "ls = \"\"\n",
    "for i in range(0, len(s)):\n",
    "    b = \"\"\n",
    "    ss = \"\"\n",
    "    ks = \"\"\n",
    "    j = 1\n",
    "    while j <= len(s):\n",
    "        ss = s[i:i+j]\n",
    "        b = sorted(ss)\n",
    "        str1 = ''.join(b)\n",
    "        j += 1\n",
    "        if str1 == ss:\n",
    "            ks = ss\n",
    "        else:\n",
    "            break\n",
    "    if len(ks) > len(ls):\n",
    "        ls = ks\n",
    "print(\"Longest substring in alphabetical order is:\"+ ls)"
   ]
  },
  {
   "cell_type": "code",
   "execution_count": null,
   "metadata": {
    "collapsed": true
   },
   "outputs": [],
   "source": []
  }
 ],
 "metadata": {
  "anaconda-cloud": {},
  "kernelspec": {
   "display_name": "Python [Root]",
   "language": "python",
   "name": "Python [Root]"
  },
  "language_info": {
   "codemirror_mode": {
    "name": "ipython",
    "version": 2
   },
   "file_extension": ".py",
   "mimetype": "text/x-python",
   "name": "python",
   "nbconvert_exporter": "python",
   "pygments_lexer": "ipython2",
   "version": "2.7.12"
  }
 },
 "nbformat": 4,
 "nbformat_minor": 0
}
