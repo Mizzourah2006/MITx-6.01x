{
 "cells": [
  {
   "cell_type": "markdown",
   "metadata": {},
   "source": [
    "# The Word Game"
   ]
  },
  {
   "cell_type": "code",
   "execution_count": 8,
   "metadata": {
    "collapsed": true
   },
   "outputs": [],
   "source": [
    "# The 6.00 Word Game\n",
    "\n",
    "import random\n",
    "import string\n",
    "import pandas as pd\n",
    "\n",
    "VOWELS = 'aeiou'\n",
    "CONSONANTS = 'bcdfghjklmnpqrstvwxyz'\n",
    "HAND_SIZE = 7\n",
    "\n",
    "SCRABBLE_LETTER_VALUES = {\n",
    "    'a': 1, 'b': 3, 'c': 3, 'd': 2, 'e': 1, 'f': 4, 'g': 2, 'h': 4, 'i': 1, 'j': 8, 'k': 5, \n",
    "    'l': 1, 'm': 3, 'n': 1, 'o': 1, 'p': 3, 'q': 10, 'r': 1, 's': 1, 't': 1, 'u': 1, 'v': 4, \n",
    "    'w': 4, 'x': 8, 'y': 4, 'z': 10\n",
    "}\n",
    "\n",
    "# -----------------------------------\n",
    "# Helper code\n",
    "# (you don't need to understand this helper code)\n",
    "\n",
    "WORDLIST_FILENAME = \"words.txt\"\n",
    "\n",
    "def loadWords():\n",
    "    \"\"\"\n",
    "    Returns a list of valid words. Words are strings of lowercase letters.\n",
    "    \n",
    "    Depending on the size of the word list, this function may\n",
    "    take a while to finish.\n",
    "    \"\"\"\n",
    "    print(\"Loading word list from file...\")\n",
    "    # inFile: file\n",
    "    inFile = open(WORDLIST_FILENAME, 'r')\n",
    "    # wordList: list of strings\n",
    "    wordList = []\n",
    "    for line in inFile:\n",
    "        wordList.append(line.strip().lower())\n",
    "    print(\"  \", len(wordList), \"words loaded.\")\n",
    "    return wordList\n",
    "\n",
    "def getFrequencyDict(sequence):\n",
    "    \"\"\"\n",
    "    Returns a dictionary where the keys are elements of the sequence\n",
    "    and the values are integer counts, for the number of times that\n",
    "    an element is repeated in the sequence.\n",
    "\n",
    "    sequence: string or list\n",
    "    return: dictionary\n",
    "    \"\"\"\n",
    "    # freqs: dictionary (element_type -> int)\n",
    "    freq = {}\n",
    "    for x in sequence:\n",
    "        freq[x] = freq.get(x,0) + 1\n",
    "    return freq\n",
    "\t\n",
    "\n",
    "# (end of helper code)\n",
    "# -----------------------------------\n",
    "\n",
    "#\n",
    "# Problem #1: Scoring a word\n",
    "#\n",
    "def getWordScore(word, n):\n",
    "    \"\"\"\n",
    "    Returns the score for a word. Assumes the word is a valid word.\n",
    "\n",
    "    The score for a word is the sum of the points for letters in the\n",
    "    word, multiplied by the length of the word, PLUS 50 points if all n\n",
    "    letters are used on the first turn.\n",
    "\n",
    "    Letters are scored as in Scrabble; A is worth 1, B is worth 3, C is\n",
    "    worth 3, D is worth 2, E is worth 1, and so on (see SCRABBLE_LETTER_VALUES)\n",
    "\n",
    "    word: string (lowercase letters)\n",
    "    n: integer (HAND_SIZE; i.e., hand size required for additional points)\n",
    "    returns: int >= 0\n",
    "    \"\"\"\n",
    "    score = 0\n",
    "    word = word.lower()\n",
    "\n",
    "    for letter in word:\n",
    "        score+= SCRABBLE_LETTER_VALUES[letter]\n",
    "    score *=len(word)\n",
    "    if len(word) == n:\n",
    "        score += 50\n",
    "    else:\n",
    "        score += 0\n",
    "    return score"
   ]
  },
  {
   "cell_type": "code",
   "execution_count": 2,
   "metadata": {
    "collapsed": true
   },
   "outputs": [],
   "source": [
    "word = 'car'"
   ]
  },
  {
   "cell_type": "code",
   "execution_count": 9,
   "metadata": {
    "collapsed": false
   },
   "outputs": [
    {
     "name": "stdout",
     "output_type": "stream",
     "text": [
      "a c i h m m z ()\n"
     ]
    }
   ],
   "source": [
    "def displayHand(hand):\n",
    "    \"\"\"\n",
    "    Displays the letters currently in the hand.\n",
    "\n",
    "    For example:\n",
    "    >>> displayHand({'a':1, 'x':2, 'l':3, 'e':1})\n",
    "    Should print out something like:\n",
    "       a x x l l l e\n",
    "    The order of the letters is unimportant.\n",
    "\n",
    "    hand: dictionary (string -> int)\n",
    "    \"\"\"\n",
    "    for letter in hand.keys():\n",
    "        for j in range(hand[letter]):\n",
    "             print(letter),#end=\" \")       # print all on the same line\n",
    "    print()                            # print an empty line\n",
    "    \n",
    "displayHand(hand)"
   ]
  },
  {
   "cell_type": "code",
   "execution_count": null,
   "metadata": {
    "collapsed": false
   },
   "outputs": [],
   "source": [
    "hand = {'a':1, 'q':1, 'l':2, 'm':1, 'u':1, 'i':1}\n",
    "word = 'luma'"
   ]
  },
  {
   "cell_type": "code",
   "execution_count": 10,
   "metadata": {
    "collapsed": true
   },
   "outputs": [],
   "source": [
    "def updateHand(hand, word):\n",
    "    \"\"\"\n",
    "    Assumes that 'hand' has all the letters in word.\n",
    "    In other words, this assumes that however many times\n",
    "    a letter appears in 'word', 'hand' has at least as\n",
    "    many of that letter in it. \n",
    "\n",
    "    Updates the hand: uses up the letters in the given word\n",
    "    and returns the new hand, without those letters in it.\n",
    "\n",
    "    Has no side effects: does not modify hand.\n",
    "\n",
    "    word: string\n",
    "    hand: dictionary (string -> int)    \n",
    "    returns: dictionary (string -> int)\n",
    "    \"\"\"\n",
    "    updated_hand = hand.copy()\n",
    "    \n",
    "    for letter in word:\n",
    "        updated_hand[letter] = updated_hand.get(letter,0)-1\n",
    "    print updated_hand"
   ]
  },
  {
   "cell_type": "code",
   "execution_count": null,
   "metadata": {
    "collapsed": false
   },
   "outputs": [],
   "source": [
    "updateHand(hand, word)"
   ]
  },
  {
   "cell_type": "code",
   "execution_count": null,
   "metadata": {
    "collapsed": false
   },
   "outputs": [],
   "source": [
    "hand.items()"
   ]
  },
  {
   "cell_type": "code",
   "execution_count": null,
   "metadata": {
    "collapsed": true
   },
   "outputs": [],
   "source": [
    "word = 'you'\n",
    "hand = {'o': 2, 'y': 1, 'u': 2, 'a': 1, 'z': 1, 'h': 1, 'c': 2, 't': 2}\n",
    "wordList = ['dog','cut','fat','person', 'rapture', 'chayote']"
   ]
  },
  {
   "cell_type": "code",
   "execution_count": 11,
   "metadata": {
    "collapsed": false
   },
   "outputs": [],
   "source": [
    "def isValidWord(word, hand, wordList):\n",
    "    \"\"\"\n",
    "    Returns True if word is in the wordList and is entirely\n",
    "    composed of letters in the hand. Otherwise, returns False.\n",
    "\n",
    "    Does not mutate hand or wordList.\n",
    "   \n",
    "    word: string\n",
    "    hand: dictionary (string -> int)\n",
    "    wordList: list of lowercase strings\n",
    "    \"\"\"\n",
    "    updated_hand = hand.copy()\n",
    "    hand_list = []\n",
    "    in_hand = 0\n",
    "    in_list = 0\n",
    "    if word in wordList:\n",
    "        in_list = True\n",
    "    for letter in word:\n",
    "        if letter not in updated_hand:\n",
    "            hand_list.append(letter)\n",
    "        if updated_hand.get(letter,0) == 0:\n",
    "            hand_list.append(letter)\n",
    "        if letter in updated_hand:\n",
    "            updated_hand[letter] = updated_hand.get(letter,0)-1\n",
    "    if len(hand_list) < 1:\n",
    "        in_hand = True \n",
    "    else:\n",
    "        in_hand = False    \n",
    "    if (in_hand and in_list) is True:\n",
    "        return True\n",
    "    else:\n",
    "        return False\n",
    "# What needs to be done. I need to figure out how to reduce letter counts from the updated_hand as the letter is used\n",
    "# so it takes into account the fact that I can't use letters multiple times if I don't have multiple counts for that\n",
    "# letter. "
   ]
  },
  {
   "cell_type": "code",
   "execution_count": null,
   "metadata": {
    "collapsed": false
   },
   "outputs": [],
   "source": [
    "isValidWord(word, hand, wordList)"
   ]
  },
  {
   "cell_type": "code",
   "execution_count": null,
   "metadata": {
    "collapsed": true
   },
   "outputs": [],
   "source": [
    "hand = {'o': 1, 'y': 1, 'u': 2, 'a': 1, 'z': 3, 'h': 1, 'c': 1}"
   ]
  },
  {
   "cell_type": "code",
   "execution_count": 12,
   "metadata": {
    "collapsed": true
   },
   "outputs": [],
   "source": [
    "def calculateHandlen(hand):\n",
    "    \"\"\" \n",
    "    Returns the length (number of letters) in the current hand.\n",
    "    \n",
    "    hand: dictionary (string int)\n",
    "    returns: integer\n",
    "    \"\"\"\n",
    "    updated_hand = hand.copy()\n",
    "    count = 0\n",
    "    for letter in hand.keys():\n",
    "        if updated_hand.get(letter) != 0:\n",
    "            updated_hand[letter] = updated_hand.get(letter)-1\n",
    "            count+=updated_hand.get(letter)\n",
    "    return count\n",
    "            "
   ]
  },
  {
   "cell_type": "code",
   "execution_count": 146,
   "metadata": {
    "collapsed": false
   },
   "outputs": [],
   "source": [
    "def playHand(hand, wordList, n):\n",
    "    \"\"\"\n",
    "    Allows the user to play the given hand, as follows:\n",
    "\n",
    "    * The hand is displayed.\n",
    "    * The user may input a word or a single period (the string \".\") \n",
    "      to indicate they're done playing\n",
    "    * Invalid words are rejected, and a message is displayed asking\n",
    "      the user to choose another word until they enter a valid word or \".\"\n",
    "    * When a valid word is entered, it uses up letters from the hand.\n",
    "    * After every valid word: the score for that word is displayed,\n",
    "      the remaining letters in the hand are displayed, and the user\n",
    "      is asked to input another word.\n",
    "    * The sum of the word scores is displayed when the hand finishes.\n",
    "    * The hand finishes when there are no more unused letters or the user\n",
    "      inputs a \".\"\n",
    "\n",
    "      hand: dictionary (string -> int)\n",
    "      wordList: list of lowercase strings\n",
    "      n: integer (HAND_SIZE; i.e., hand size required for additional points)\n",
    "      \n",
    "    \"\"\"\n",
    "\n",
    "    # Keep track of the total score\n",
    "    total_score = 0\n",
    "    # As long as there are still letters left in the hand:\n",
    "    while (calculateHandlen(hand) > 0):\n",
    "        # Display the hand\n",
    "        print ('Current hand: '),\n",
    "        displayHand(hand)\n",
    "        # Ask user for input\n",
    "        word = raw_input('Enter a word, or a \".\"')\n",
    "        # If the input is a single period:\n",
    "        if word == '.':\n",
    "            # End the game (break out of the loop)\n",
    "            break\n",
    "        # Otherwise (the input is not a single period):\n",
    "        else:\n",
    "            # If the word is not valid:\n",
    "            if not isValidWord(word,hand,wordList):\n",
    "                # Reject invalid word (print a message followed by a blank line)\n",
    "                print ('Invalid word, please try again.')\n",
    "                print('         ')\n",
    "\n",
    "            # Otherwise (the word is valid):\n",
    "            else:\n",
    "                score = getWordScore(word,n)\n",
    "                total_score +=score\n",
    "            \n",
    "\n",
    "                # Tell the user how many points the word earned, and the updated total score, in one line followed by a blank line\n",
    "                print(word + ' earned ' + str(score) + ' points. Total: ' + str(total_score))\n",
    "                print('      ')\n",
    "                # Update the hand \n",
    "                hand = updateHand(hand, word)\n",
    "                \n",
    "\n",
    "    # Game is over (user entered a '.' or ran out of letters), so tell user the total score\n",
    "    if calculateHandlen(hand) > 0:\n",
    "        print ('Goodbye! Your total score is: ' + str(total_score))\n",
    "    else:\n",
    "        print ('Run out of letters. Total score: ' + str(total_score))\n",
    "\n",
    "\n"
   ]
  },
  {
   "cell_type": "code",
   "execution_count": 147,
   "metadata": {
    "collapsed": false
   },
   "outputs": [],
   "source": [
    "hand = {'h':1, 'i':1, 'c':1, 'z':1, 'm':2, 'a':1}\n",
    "wordList = ['him', 'cam']\n",
    "n = 7"
   ]
  },
  {
   "cell_type": "code",
   "execution_count": 148,
   "metadata": {
    "collapsed": false
   },
   "outputs": [
    {
     "name": "stdout",
     "output_type": "stream",
     "text": [
      "Current hand:  a c i h m m z ()\n",
      "Enter a word, or a \".\"him\n",
      "him earned 24 points. Total: 24\n",
      "      \n",
      "Run out of letters. Total score: 24\n"
     ]
    }
   ],
   "source": [
    "playHand(hand, wordList, n)"
   ]
  },
  {
   "cell_type": "code",
   "execution_count": null,
   "metadata": {
    "collapsed": false
   },
   "outputs": [],
   "source": []
  },
  {
   "cell_type": "code",
   "execution_count": null,
   "metadata": {
    "collapsed": true
   },
   "outputs": [],
   "source": []
  }
 ],
 "metadata": {
  "anaconda-cloud": {},
  "kernelspec": {
   "display_name": "Python [Root]",
   "language": "python",
   "name": "Python [Root]"
  },
  "language_info": {
   "codemirror_mode": {
    "name": "ipython",
    "version": 2
   },
   "file_extension": ".py",
   "mimetype": "text/x-python",
   "name": "python",
   "nbconvert_exporter": "python",
   "pygments_lexer": "ipython2",
   "version": "2.7.12"
  }
 },
 "nbformat": 4,
 "nbformat_minor": 0
}
